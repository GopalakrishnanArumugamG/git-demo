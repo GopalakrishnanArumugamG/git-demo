{
 "cells": [
  {
   "cell_type": "code",
   "execution_count": 1,
   "id": "2b48bdbf",
   "metadata": {},
   "outputs": [
    {
     "name": "stdout",
     "output_type": "stream",
     "text": [
      "Demo for git\n"
     ]
    }
   ],
   "source": [
    "print('Demo for git')"
   ]
  },
  {
   "cell_type": "code",
   "execution_count": null,
   "id": "8ed73f73",
   "metadata": {},
   "outputs": [],
   "source": []
  }
 ],
 "metadata": {
  "kernelspec": {
   "display_name": "Python 3",
   "language": "python",
   "name": "python3"
  },
  "language_info": {
   "codemirror_mode": {
    "name": "ipython",
    "version": 3
   },
   "file_extension": ".py",
   "mimetype": "text/x-python",
   "name": "python",
   "nbconvert_exporter": "python",
   "pygments_lexer": "ipython3",
   "version": "3.9.5"
  }
 },
 "nbformat": 4,
 "nbformat_minor": 5
}
