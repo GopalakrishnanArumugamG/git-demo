{
 "cells": [
  {
   "cell_type": "code",
   "execution_count": 1,
   "id": "291b8d77",
   "metadata": {},
   "outputs": [
    {
     "name": "stdout",
     "output_type": "stream",
     "text": [
      "Demo for git\n"
     ]
    }
   ],
   "source": [
    "print('Demo for git')"
   ]
  },
  {
   "cell_type": "code",
   "execution_count": 2,
   "id": "8b6b76a4",
   "metadata": {},
   "outputs": [
    {
     "name": "stdout",
     "output_type": "stream",
     "text": [
      "Demo for git\n"
     ]
    }
   ],
   "source": [
    "print('Demo for git')"
   ]
  },
  {
   "cell_type": "code",
   "execution_count": 3,
   "id": "679e6735",
   "metadata": {},
   "outputs": [
    {
     "name": "stdout",
     "output_type": "stream",
     "text": [
      "Demo for git\n"
     ]
    }
   ],
   "source": [
    "print('Demo for git')"
   ]
  },
  {
   "cell_type": "code",
   "execution_count": null,
   "id": "b64206e4",
   "metadata": {},
   "outputs": [],
   "source": []
  }
 ],
 "metadata": {
  "kernelspec": {
   "display_name": "Python 3",
   "language": "python",
   "name": "python3"
  },
  "language_info": {
   "codemirror_mode": {
    "name": "ipython",
    "version": 3
   },
   "file_extension": ".py",
   "mimetype": "text/x-python",
   "name": "python",
   "nbconvert_exporter": "python",
   "pygments_lexer": "ipython3",
   "version": "3.9.5"
  }
 },
 "nbformat": 4,
 "nbformat_minor": 5
}
